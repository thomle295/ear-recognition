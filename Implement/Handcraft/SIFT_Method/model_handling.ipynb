{
 "cells": [
  {
   "cell_type": "code",
   "execution_count": 1,
   "id": "a51a9449-b8c1-463c-9a2f-a478bae38700",
   "metadata": {},
   "outputs": [],
   "source": [
    "from sklearn.model_selection import train_test_split, GridSearchCV\n",
    "from sklearn.model_selection import cross_val_score\n",
    "import sklearn\n",
    "from Util.data_loader import label_image\n",
    "from Util.extractors import create_feature_bow, extract_sift_features, extract_orb_features, kmean_bow\n",
    "import pickle\n",
    "import argparse\n",
    "import os\n",
    "from sklearn.model_selection import LeaveOneOut"
   ]
  },
  {
   "cell_type": "code",
   "execution_count": 6,
   "id": "a537823f-6570-4153-a79d-9477725deddb",
   "metadata": {},
   "outputs": [],
   "source": [
    "DATA_AUG_TRAIN_PATH = \"../../../Dataset/EarVN1.0 dataset/aug_dataset_300/train\"\n",
    "DATA_AUG_TRAIN_600_PATH = \"../../../Dataset/EarVN1.0 dataset/aug_dataset_600/train\"\n",
    "DATA_AUG_TEST_PATH = \"../../../Dataset/EarVN1.0 dataset/split_dataset/test\""
   ]
  },
  {
   "cell_type": "code",
   "execution_count": 3,
   "id": "ff7a3c71-a833-4d38-9113-65a94067a81e",
   "metadata": {},
   "outputs": [],
   "source": [
    "def extract_feature(path, num_cluster=60):\n",
    "    data_train, label, label2id = label_image(path)\n",
    "    \n",
    "    image_desctiptors = extract_sift_features(data_train)\n",
    "    \n",
    "    all_descriptors = []\n",
    "    for descriptor in image_desctiptors:\n",
    "        if descriptor is not None:\n",
    "            for des in descriptor:\n",
    "                all_descriptors.append(des)\n",
    "    \n",
    "    BoW = kmean_bow(all_descriptors, num_cluster)\n",
    "    \n",
    "    X_features = create_feature_bow(\n",
    "        image_desctiptors, BoW, num_cluster\n",
    "    )\n",
    "    \n",
    "    return X_features, label, label2id"
   ]
  },
  {
   "cell_type": "code",
   "execution_count": 4,
   "id": "c1b74a67-7d1d-4073-ba32-6ad3cc199650",
   "metadata": {},
   "outputs": [
    {
     "name": "stderr",
     "output_type": "stream",
     "text": [
      "[ WARN:0@37.443] global /Users/runner/work/opencv-python/opencv-python/opencv_contrib/modules/xfeatures2d/misc/python/shadow_sift.hpp (15) SIFT_create DEPRECATED: cv.xfeatures2d.SIFT_create() is deprecated due SIFT tranfer to the main repository. https://github.com/opencv/opencv/issues/16736\n"
     ]
    }
   ],
   "source": [
    "X_features, label, label2id = extract_feature(DATA_AUG_TRAIN_PATH)"
   ]
  },
  {
   "cell_type": "code",
   "execution_count": 7,
   "id": "f20ec981-aae3-459e-9bf1-645803daa557",
   "metadata": {},
   "outputs": [],
   "source": [
    "X_features_test, label_test, label2id_test = extract_feature(DATA_AUG_TEST_PATH)"
   ]
  },
  {
   "cell_type": "code",
   "execution_count": 8,
   "id": "b6c7adac-5366-4d01-823a-2c1c7cb0facd",
   "metadata": {},
   "outputs": [],
   "source": [
    "# build model:\n",
    "model_svm = sklearn.svm.SVC(\n",
    "    kernel = \"poly\",\n",
    "    C = 35, \n",
    "    gamma = 0.01,\n",
    "    random_state = 0\n",
    ")"
   ]
  },
  {
   "cell_type": "code",
   "execution_count": 9,
   "id": "4a6bfae3-0b74-488a-bd9c-8b2d8fb0230e",
   "metadata": {},
   "outputs": [
    {
     "name": "stdout",
     "output_type": "stream",
     "text": [
      "score on training set params:  0.678778386844166\n",
      "score on testing set params:  0.014069644741470278\n"
     ]
    }
   ],
   "source": [
    "model_svm.fit(X_features, label)\n",
    "print(\"score on training set params: \", model_svm.score(X_features, label))\n",
    "print(\"score on testing set params: \", model_svm.score(X_features_test, label_test))"
   ]
  },
  {
   "cell_type": "code",
   "execution_count": 10,
   "id": "815f1280-eab1-491b-96f5-598281716b66",
   "metadata": {},
   "outputs": [
    {
     "name": "stdout",
     "output_type": "stream",
     "text": [
      "score on training set params:  0.4629600626468285\n",
      "score on testing set params:  0.009848751319029195\n"
     ]
    }
   ],
   "source": [
    "from sklearn.neighbors import KNeighborsClassifier\n",
    "\n",
    "neigh = KNeighborsClassifier(10)\n",
    "neigh.fit(X_features, label)\n",
    "\n",
    "print(\"score on training set params: \", neigh.score(X_features, label))\n",
    "print(\"score on testing set params: \", neigh.score(X_features_test, label_test))"
   ]
  },
  {
   "cell_type": "code",
   "execution_count": 11,
   "id": "c3c6b8cc-5e62-4295-9b1e-89f38195a860",
   "metadata": {},
   "outputs": [
    {
     "name": "stdout",
     "output_type": "stream",
     "text": [
      "score on training set params:  0.9962859380243875\n",
      "score on testing set params:  0.011255715793176222\n"
     ]
    }
   ],
   "source": [
    "from sklearn.ensemble import RandomForestClassifier\n",
    "clf = RandomForestClassifier(n_estimators=80, max_depth=70, random_state=0)\n",
    "clf.fit(X_features, label)\n",
    "\n",
    "print(\"score on training set params: \", clf.score(X_features, label))\n",
    "print(\"score on testing set params: \", clf.score(X_features_test, label_test))"
   ]
  },
  {
   "cell_type": "code",
   "execution_count": null,
   "id": "18e8522e",
   "metadata": {},
   "outputs": [],
   "source": []
  }
 ],
 "metadata": {
  "kernelspec": {
   "display_name": "Python 3.9.7 ('base')",
   "language": "python",
   "name": "python3"
  },
  "language_info": {
   "codemirror_mode": {
    "name": "ipython",
    "version": 3
   },
   "file_extension": ".py",
   "mimetype": "text/x-python",
   "name": "python",
   "nbconvert_exporter": "python",
   "pygments_lexer": "ipython3",
   "version": "3.9.7"
  },
  "vscode": {
   "interpreter": {
    "hash": "9818b634fdea33fe2157daab64f91753ae3cf733d18d80a909c5d98613306377"
   }
  }
 },
 "nbformat": 4,
 "nbformat_minor": 5
}
