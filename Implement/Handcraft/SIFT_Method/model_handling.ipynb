{
 "cells": [
  {
   "cell_type": "code",
   "execution_count": 21,
   "id": "a51a9449-b8c1-463c-9a2f-a478bae38700",
   "metadata": {},
   "outputs": [],
   "source": [
    "from sklearn.model_selection import train_test_split, GridSearchCV\n",
    "from sklearn.model_selection import cross_val_score\n",
    "import sklearn\n",
    "from Util.data_loader import label_image\n",
    "from Util.extractors import create_feature_bow, extract_sift_features, extract_orb_features, kmean_bow\n",
    "import pickle\n",
    "import argparse\n",
    "import os\n",
    "from sklearn.model_selection import LeaveOneOut"
   ]
  },
  {
   "cell_type": "code",
   "execution_count": 27,
   "id": "a537823f-6570-4153-a79d-9477725deddb",
   "metadata": {},
   "outputs": [],
   "source": [
    "DATA_AUG_TRAIN_PATH = \"../../../Dataset/EarVN1.0 dataset/aug_dataset/train\"\n",
    "DATA_AUG_TRAIN_600_PATH = \"../../../Dataset/EarVN1.0 dataset/aug_dataset_600/train\"\n",
    "DATA_AUG_TEST_PATH = \"../../../Dataset/EarVN1.0 dataset/aug_dataset/test\""
   ]
  },
  {
   "cell_type": "code",
   "execution_count": null,
   "id": "a6f38a36-7fca-40ac-8b58-b1bc6047f8f3",
   "metadata": {},
   "outputs": [],
   "source": [
    "def "
   ]
  },
  {
   "cell_type": "code",
   "execution_count": 28,
   "id": "ff7a3c71-a833-4d38-9113-65a94067a81e",
   "metadata": {},
   "outputs": [],
   "source": [
    "def extract_feature(path, num_cluster=60):\n",
    "    data_train, label, label2id = label_image(path)\n",
    "    \n",
    "    image_desctiptors = extract_sift_features(data_train)\n",
    "    \n",
    "    all_descriptors = []\n",
    "    for descriptor in image_desctiptors:\n",
    "        if descriptor is not None:\n",
    "            for des in descriptor:\n",
    "                all_descriptors.append(des)\n",
    "    \n",
    "    BoW = kmean_bow(all_descriptors, num_cluster)\n",
    "    \n",
    "    X_features = create_feature_bow(\n",
    "        image_desctiptors, BoW, num_cluster\n",
    "    )\n",
    "    \n",
    "    return X_features, label, label2id"
   ]
  },
  {
   "cell_type": "code",
   "execution_count": 30,
   "id": "c1b74a67-7d1d-4073-ba32-6ad3cc199650",
   "metadata": {},
   "outputs": [],
   "source": [
    "X_features, label, label2id = extract_feature(DATA_AUG_TRAIN_PATH)"
   ]
  },
  {
   "cell_type": "code",
   "execution_count": 31,
   "id": "f20ec981-aae3-459e-9bf1-645803daa557",
   "metadata": {},
   "outputs": [],
   "source": [
    "X_features_test, label_test, label2id_test = extract_feature(DATA_AUG_TEST_PATH)"
   ]
  },
  {
   "cell_type": "code",
   "execution_count": 17,
   "id": "b6c7adac-5366-4d01-823a-2c1c7cb0facd",
   "metadata": {},
   "outputs": [],
   "source": [
    "# build model:\n",
    "model_svm = sklearn.svm.SVC(\n",
    "    kernel = \"poly\",\n",
    "    C = 35, \n",
    "    gamma = 0.01,\n",
    "    random_state = 0\n",
    ")"
   ]
  },
  {
   "cell_type": "code",
   "execution_count": 23,
   "id": "4a6bfae3-0b74-488a-bd9c-8b2d8fb0230e",
   "metadata": {},
   "outputs": [
    {
     "name": "stdout",
     "output_type": "stream",
     "text": [
      "score on training set params:  0.6683074169370176\n",
      "score on testing set params:  0.011255715793176222\n"
     ]
    }
   ],
   "source": [
    "model_svm.fit(X_features, label)\n",
    "# filename = 'svm_model_aug_C_35_gamma_0.01.sav'\n",
    "# pickle.dump(model_svm, open(filename, 'wb'))\n",
    "print(\"score on training set params: \", model_svm.score(X_features, label))\n",
    "print(\"score on testing set params: \", model_svm.score(X_features_test, label_test))"
   ]
  },
  {
   "cell_type": "code",
   "execution_count": null,
   "id": "815f1280-eab1-491b-96f5-598281716b66",
   "metadata": {},
   "outputs": [],
   "source": [
    "from sklearn.neighbors import KNeighborsClassifier\n",
    "\n",
    "neigh = KNeighborsClassifier(10)\n",
    "neigh.fit(X_features, label)\n",
    "\n",
    "print(\"score on training set params: \", neigh.score(X_features, label))\n",
    "print(\"score on testing set params: \", neigh.score(X_features_test, label_test))"
   ]
  },
  {
   "cell_type": "code",
   "execution_count": null,
   "id": "c3c6b8cc-5e62-4295-9b1e-89f38195a860",
   "metadata": {},
   "outputs": [],
   "source": [
    "from sklearn.ensemble import RandomForestClassifier\n",
    "clf = RandomForestClassifier(n_estimators=80, max_depth=70, random_state=0)\n",
    "clf.fit(X_features, label)\n",
    "\n",
    "print(\"score on training set params: \", clf.score(X_features, label))\n",
    "print(\"score on testing set params: \", clf.score(X_features_test, label_test))"
   ]
  },
  {
   "cell_type": "code",
   "execution_count": null,
   "id": "34ac6df1-4d27-4526-9218-4b11d2e3f395",
   "metadata": {},
   "outputs": [],
   "source": [
    "# loo = LeaveOneOut()\n",
    "\n",
    "# scores = cross_val_score(\n",
    "#     model_svm, \n",
    "#     X_features,label, \n",
    "#     cv = loo, \n",
    "#     scoring='accuracy'\n",
    "# )\n",
    "\n",
    "# print(scores.mean())"
   ]
  },
  {
   "cell_type": "code",
   "execution_count": null,
   "id": "79b63a6a-8f3a-46b7-8dde-b09c8ee57d73",
   "metadata": {},
   "outputs": [],
   "source": []
  },
  {
   "cell_type": "code",
   "execution_count": null,
   "id": "0907acd0-1302-4dc6-a163-a30c257afcb4",
   "metadata": {},
   "outputs": [],
   "source": [
    "# model_svm.fit(X_features, label)\n",
    "# filename = 'svm_model_aug_C_35_gamma_0.01.sav'\n",
    "# pickle.dump(model_svm, open(filename, 'wb'))\n",
    "# print(\"score on training set params: \", model_svm.score(X_features, label))"
   ]
  }
 ],
 "metadata": {
  "kernelspec": {
   "display_name": "Python 3 (ipykernel)",
   "language": "python",
   "name": "python3"
  },
  "language_info": {
   "codemirror_mode": {
    "name": "ipython",
    "version": 3
   },
   "file_extension": ".py",
   "mimetype": "text/x-python",
   "name": "python",
   "nbconvert_exporter": "python",
   "pygments_lexer": "ipython3",
   "version": "3.9.7"
  }
 },
 "nbformat": 4,
 "nbformat_minor": 5
}
